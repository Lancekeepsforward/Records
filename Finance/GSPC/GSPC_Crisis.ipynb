{
  "cells": [
    {
      "cell_type": "code",
      "execution_count": null,
      "metadata": {
        "colab": {
          "base_uri": "https://localhost:8080/",
          "height": 329
        },
        "id": "ZRNKfGreLdko",
        "outputId": "d46911d6-d24a-43a6-a003-bdc2b51b0e41"
      },
      "outputs": [
        {
          "name": "stdout",
          "output_type": "stream",
          "text": [
            "__main__\n"
          ]
        }
      ],
      "source": [
        "import numpy as np\n",
        "from matplotlib import pyplot as plt\n",
        "import yfinance\n",
        "import pandas as pd\n",
        "import warnings\n",
        "warnings.filterwarnings(\"ignore\")\n",
        "\n",
        "def yahoo_finance_GSPC_download():\n",
        "    data: pd.DataFrame = yfinance.download(\"^GSPC\", start=\"1997-01-01\", end=\"2024-08-31\", interval=\"1d\")\n",
        "    data.to_csv(\"^GSPC.txt\")\n",
        "\n",
        "\n",
        "def GSPC_():\n",
        "    def graph_(data: pd.DataFrame, index_worst_days: pd.DataFrame.index):\n",
        "        length = data.shape[0]\n",
        "        index = np.linspace(0, length, 9).astype(int)\n",
        "        index[-1] -= 1\n",
        "        plt.figure(\"HW1\", figsize=(10, 8), facecolor=\"lightyellow\")\n",
        "\n",
        "        plt.subplot(311)\n",
        "        target = data[\"Close\"]\n",
        "        plt.plot(range(length), target, linewidth=1, label=\"S&P 500\")\n",
        "        index_containers = []\n",
        "        for i, value in enumerate(data.index):\n",
        "            if value in index_worst_days:\n",
        "                index_containers.append(i)\n",
        "                # print(f\"{i}, {value}\")\n",
        "        for value in index_containers:\n",
        "            plt.axvline(value, color='red', linestyle='-', linewidth=0.5, zorder=4, label=\"Crisis\")  # 添加垂直分界线\n",
        "        plt.xticks(index, labels=data.index[index])\n",
        "        plt.ylabel(\"Closing Price (USD)\")\n",
        "        plt.xlabel(\"Date\")\n",
        "        plt.yticks(np.linspace(target.min(), target.max(), 10))\n",
        "        plt.title(\"Tendency of Closing Price of S&P 500\")\n",
        "        plt.grid(linestyle=\"--\", alpha=0.2)\n",
        "        plt.legend([\"S&P 500\", \"Crisis\"], loc=\"upper left\")\n",
        "\n",
        "        plt.subplot(312)\n",
        "        target = data[\"Return_Percentage\"]\n",
        "        plt.title(\"S&P 500 Daily Return\")\n",
        "        plt.plot(range(length), target, linewidth=0.2, label=\"Return in Percentage(%)\")\n",
        "        plt.ylabel(\"Daily Return Percentage(%)\")\n",
        "        plt.xticks(index, labels=data.index[index])\n",
        "        plt.xlabel(\"Date\")\n",
        "        plt.yticks(np.linspace(target.min(), target.max(), 10).round(1))\n",
        "        plt.grid(linestyle=\"--\", alpha=0.2)\n",
        "        plt.legend(loc=\"best\")\n",
        "\n",
        "        plt.subplot(313)\n",
        "        plt.title(\"Histogram of Daily Return in Percentage\")\n",
        "        target = data[\"Return_Percentage\"]\n",
        "        counts, bins, patches = plt.hist(target, bins=50, facecolor=\"blue\", edgecolor=\"white\", zorder=3, log=True)\n",
        "        plt.xticks([bins.min(), 0, bins.max()])\n",
        "        # plt.xticks(bins)\n",
        "        counts = counts.astype(int)\n",
        "        bins = 0.5 * (bins[1:] + bins[:-1])\n",
        "        for i in range(len(counts)):\n",
        "            plt.text(bins[i], counts[i], counts[i], va=\"bottom\", ha=\"center\", fontsize=5)\n",
        "        plt.axvline(0, color='red', linestyle='--', linewidth=1, zorder=4)  # 添加垂直分界线\n",
        "        plt.annotate(\"line of x=0\", xy=(0, 1), xytext=(0.01, 5), c=\"yellow\",\n",
        "                     arrowprops=dict(arrowstyle=\"->\", linewidth=1, linestyle=\"--\", color=\"yellow\"), zorder=20)\n",
        "        plt.grid(axis=\"y\",linestyle=\"--\", alpha=0.2, zorder=0)\n",
        "        plt.ylabel(\"Frequency of Return\")\n",
        "        plt.xlabel(\"Daily Return(%)\")\n",
        "        # plt.tight_layout(pad=0.5)\n",
        "        plt.subplots_adjust(left=0.1, right=0.95, top=0.95, bottom=0.07, hspace=0.35)\n",
        "        plt.show()\n",
        "\n",
        "\n",
        "    def worst_days(data: pd.DataFrame):\n",
        "        worst_days_index = data[\"Return_Percentage\"].sort_values().index[:15]\n",
        "        target = (data.loc[worst_days_index, :]).sort_index()\n",
        "        target[\"Diff\"] = target[\"Yesterday\"] - target[\"Close\"]\n",
        "        target = target[[\"Yesterday\", \"Close\", \"Diff\", \"Return_Percentage\"]]\n",
        "        print(target)\n",
        "        return worst_days_index\n",
        "\n",
        "    data = pd.read_csv(\"^GSPC.txt\", index_col=[\"Date\"], usecols=[\"Date\", \"Close\"])\n",
        "    data[\"Yesterday\"] = data[\"Close\"].shift(1)\n",
        "    data[\"Return_Percentage\"] = ((data[\"Close\"] - data[\"Yesterday\"]) / data[\"Close\"]).round(3) * 100\n",
        "    index = worst_days(data)\n",
        "    graph_(data, index)\n",
        "\n",
        "if __name__ == \"__main__\":\n",
        "    GSPC_()\n"
      ]
    }
  ],
  "metadata": {
    "colab": {
      "provenance": []
    },
    "kernelspec": {
      "display_name": "Python 3",
      "name": "python3"
    },
    "language_info": {
      "codemirror_mode": {
        "name": "ipython",
        "version": 3
      },
      "file_extension": ".py",
      "mimetype": "text/x-python",
      "name": "python",
      "nbconvert_exporter": "python",
      "pygments_lexer": "ipython3",
      "version": "3.11.11"
    }
  },
  "nbformat": 4,
  "nbformat_minor": 0
}
